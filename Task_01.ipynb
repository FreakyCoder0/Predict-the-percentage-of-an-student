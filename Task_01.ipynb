{
  "cells": [
    {
      "cell_type": "markdown",
      "metadata": {
        "id": "tpckevstnf2w"
      },
      "source": [
        "Harsh Verma polasharsh@gmail.com\n"
        "# **Prediction using Supervised ML**\n",
        "\n",
        "(Level - Beginner)\n",
        "\n",
        "* Predict the percentage of an student based on the no. of study hours.\n",
        "* This is a simple linear regression task as it involves just 2 variables.\n",
        "* You can use R, Python, SAS Enterprise Miner or any other tool\n",
        "* Data can be found at http://bit.ly/w-data\n",
        "* What will be predicted score if a student studies for 9.25 hrs/ day?\n",
        "* Sample Solution : https://bit.ly/2HxiGGJ"
      ]
    },
    {
      "cell_type": "code",
      "execution_count": null,
      "metadata": {
        "id": "LT_VXFYYnf28"
      },
      "outputs": [],
      "source": [
        "# Importing all libraries required\n",
        "import pandas as pd\n",
        "import numpy as np  \n",
        "import matplotlib.pyplot as plt\n",
        "from sklearn.metrics import r2_score\n",
        "from sklearn.metrics import mean_squared_error\n",
        "from sklearn.metrics import mean_absolute_error\n",
        "from sklearn.model_selection import train_test_split\n",
        "from sklearn.linear_model import LinearRegression\n",
        "%matplotlib inline"
      ]
    },
    {
      "cell_type": "code",
      "execution_count": null,
      "metadata": {
        "id": "E2dqQdnInf3B",
        "outputId": "d8f7997c-c806-45e8-bc76-c452fe314a4d",
        "colab": {
          "base_uri": "https://localhost:8080/"
        }
      },
      "outputs": [
        {
          "output_type": "stream",
          "name": "stdout",
          "text": [
            "Data imported successfully\n"
          ]
        }
      ],
      "source": [
        "# Reading data from remote link\n",
        "url = \"http://bit.ly/w-data\"\n",
        "data = pd.read_csv(url)\n",
        "print(\"Data imported successfully\")"
      ]
    },
    {
      "cell_type": "code",
      "source": [
        "data.head(10)"
      ],
      "metadata": {
        "colab": {
          "base_uri": "https://localhost:8080/",
          "height": 363
        },
        "id": "CMIE3l5J6nU_",
        "outputId": "1764cba1-2f79-4eab-96e4-d2e4283662a2"
      },
      "execution_count": null,
      "outputs": [
        {
          "output_type": "execute_result",
          "data": {
            "text/plain": [
              "   Hours  Scores\n",
              "0    2.5      21\n",
              "1    5.1      47\n",
              "2    3.2      27\n",
              "3    8.5      75\n",
              "4    3.5      30\n",
              "5    1.5      20\n",
              "6    9.2      88\n",
              "7    5.5      60\n",
              "8    8.3      81\n",
              "9    2.7      25"
            ],
            "text/html": [
              "\n",
              "  <div id=\"df-469534e5-5adc-4f1a-93a4-bf82e236ad13\">\n",
              "    <div class=\"colab-df-container\">\n",
              "      <div>\n",
              "<style scoped>\n",
              "    .dataframe tbody tr th:only-of-type {\n",
              "        vertical-align: middle;\n",
              "    }\n",
              "\n",
              "    .dataframe tbody tr th {\n",
              "        vertical-align: top;\n",
              "    }\n",
              "\n",
              "    .dataframe thead th {\n",
              "        text-align: right;\n",
              "    }\n",
              "</style>\n",
              "<table border=\"1\" class=\"dataframe\">\n",
              "  <thead>\n",
              "    <tr style=\"text-align: right;\">\n",
              "      <th></th>\n",
              "      <th>Hours</th>\n",
              "      <th>Scores</th>\n",
              "    </tr>\n",
              "  </thead>\n",
              "  <tbody>\n",
              "    <tr>\n",
              "      <th>0</th>\n",
              "      <td>2.5</td>\n",
              "      <td>21</td>\n",
              "    </tr>\n",
              "    <tr>\n",
              "      <th>1</th>\n",
              "      <td>5.1</td>\n",
              "      <td>47</td>\n",
              "    </tr>\n",
              "    <tr>\n",
              "      <th>2</th>\n",
              "      <td>3.2</td>\n",
              "      <td>27</td>\n",
              "    </tr>\n",
              "    <tr>\n",
              "      <th>3</th>\n",
              "      <td>8.5</td>\n",
              "      <td>75</td>\n",
              "    </tr>\n",
              "    <tr>\n",
              "      <th>4</th>\n",
              "      <td>3.5</td>\n",
              "      <td>30</td>\n",
              "    </tr>\n",
              "    <tr>\n",
              "      <th>5</th>\n",
              "      <td>1.5</td>\n",
              "      <td>20</td>\n",
              "    </tr>\n",
              "    <tr>\n",
              "      <th>6</th>\n",
              "      <td>9.2</td>\n",
              "      <td>88</td>\n",
              "    </tr>\n",
              "    <tr>\n",
              "      <th>7</th>\n",
              "      <td>5.5</td>\n",
              "      <td>60</td>\n",
              "    </tr>\n",
              "    <tr>\n",
              "      <th>8</th>\n",
              "      <td>8.3</td>\n",
              "      <td>81</td>\n",
              "    </tr>\n",
              "    <tr>\n",
              "      <th>9</th>\n",
              "      <td>2.7</td>\n",
              "      <td>25</td>\n",
              "    </tr>\n",
              "  </tbody>\n",
              "</table>\n",
              "</div>\n",
              "      <button class=\"colab-df-convert\" onclick=\"convertToInteractive('df-469534e5-5adc-4f1a-93a4-bf82e236ad13')\"\n",
              "              title=\"Convert this dataframe to an interactive table.\"\n",
              "              style=\"display:none;\">\n",
              "        \n",
              "  <svg xmlns=\"http://www.w3.org/2000/svg\" height=\"24px\"viewBox=\"0 0 24 24\"\n",
              "       width=\"24px\">\n",
              "    <path d=\"M0 0h24v24H0V0z\" fill=\"none\"/>\n",
              "    <path d=\"M18.56 5.44l.94 2.06.94-2.06 2.06-.94-2.06-.94-.94-2.06-.94 2.06-2.06.94zm-11 1L8.5 8.5l.94-2.06 2.06-.94-2.06-.94L8.5 2.5l-.94 2.06-2.06.94zm10 10l.94 2.06.94-2.06 2.06-.94-2.06-.94-.94-2.06-.94 2.06-2.06.94z\"/><path d=\"M17.41 7.96l-1.37-1.37c-.4-.4-.92-.59-1.43-.59-.52 0-1.04.2-1.43.59L10.3 9.45l-7.72 7.72c-.78.78-.78 2.05 0 2.83L4 21.41c.39.39.9.59 1.41.59.51 0 1.02-.2 1.41-.59l7.78-7.78 2.81-2.81c.8-.78.8-2.07 0-2.86zM5.41 20L4 18.59l7.72-7.72 1.47 1.35L5.41 20z\"/>\n",
              "  </svg>\n",
              "      </button>\n",
              "      \n",
              "  <style>\n",
              "    .colab-df-container {\n",
              "      display:flex;\n",
              "      flex-wrap:wrap;\n",
              "      gap: 12px;\n",
              "    }\n",
              "\n",
              "    .colab-df-convert {\n",
              "      background-color: #E8F0FE;\n",
              "      border: none;\n",
              "      border-radius: 50%;\n",
              "      cursor: pointer;\n",
              "      display: none;\n",
              "      fill: #1967D2;\n",
              "      height: 32px;\n",
              "      padding: 0 0 0 0;\n",
              "      width: 32px;\n",
              "    }\n",
              "\n",
              "    .colab-df-convert:hover {\n",
              "      background-color: #E2EBFA;\n",
              "      box-shadow: 0px 1px 2px rgba(60, 64, 67, 0.3), 0px 1px 3px 1px rgba(60, 64, 67, 0.15);\n",
              "      fill: #174EA6;\n",
              "    }\n",
              "\n",
              "    [theme=dark] .colab-df-convert {\n",
              "      background-color: #3B4455;\n",
              "      fill: #D2E3FC;\n",
              "    }\n",
              "\n",
              "    [theme=dark] .colab-df-convert:hover {\n",
              "      background-color: #434B5C;\n",
              "      box-shadow: 0px 1px 3px 1px rgba(0, 0, 0, 0.15);\n",
              "      filter: drop-shadow(0px 1px 2px rgba(0, 0, 0, 0.3));\n",
              "      fill: #FFFFFF;\n",
              "    }\n",
              "  </style>\n",
              "\n",
              "      <script>\n",
              "        const buttonEl =\n",
              "          document.querySelector('#df-469534e5-5adc-4f1a-93a4-bf82e236ad13 button.colab-df-convert');\n",
              "        buttonEl.style.display =\n",
              "          google.colab.kernel.accessAllowed ? 'block' : 'none';\n",
              "\n",
              "        async function convertToInteractive(key) {\n",
              "          const element = document.querySelector('#df-469534e5-5adc-4f1a-93a4-bf82e236ad13');\n",
              "          const dataTable =\n",
              "            await google.colab.kernel.invokeFunction('convertToInteractive',\n",
              "                                                     [key], {});\n",
              "          if (!dataTable) return;\n",
              "\n",
              "          const docLinkHtml = 'Like what you see? Visit the ' +\n",
              "            '<a target=\"_blank\" href=https://colab.research.google.com/notebooks/data_table.ipynb>data table notebook</a>'\n",
              "            + ' to learn more about interactive tables.';\n",
              "          element.innerHTML = '';\n",
              "          dataTable['output_type'] = 'display_data';\n",
              "          await google.colab.output.renderOutput(dataTable, element);\n",
              "          const docLink = document.createElement('div');\n",
              "          docLink.innerHTML = docLinkHtml;\n",
              "          element.appendChild(docLink);\n",
              "        }\n",
              "      </script>\n",
              "    </div>\n",
              "  </div>\n",
              "  "
            ]
          },
          "metadata": {},
          "execution_count": 28
        }
      ]
    },
    {
      "cell_type": "code",
      "execution_count": null,
      "metadata": {
        "id": "F9Js6c6znf3G",
        "outputId": "94e0e9fd-8c82-40a2-9ec9-4b6f128dc577",
        "colab": {
          "base_uri": "https://localhost:8080/"
        }
      },
      "outputs": [
        {
          "output_type": "execute_result",
          "data": {
            "text/plain": [
              "(25, 2)"
            ]
          },
          "metadata": {},
          "execution_count": 29
        }
      ],
      "source": [
        "# The shape of dataset / check the number of rows and columns\n",
        "data.shape"
      ]
    },
    {
      "cell_type": "code",
      "execution_count": null,
      "metadata": {
        "id": "lirWfDgInf3I",
        "outputId": "7e3fd075-31ac-45b7-8ac5-a5615bf75caf",
        "colab": {
          "base_uri": "https://localhost:8080/"
        }
      },
      "outputs": [
        {
          "output_type": "stream",
          "name": "stdout",
          "text": [
            "<class 'pandas.core.frame.DataFrame'>\n",
            "RangeIndex: 25 entries, 0 to 24\n",
            "Data columns (total 2 columns):\n",
            " #   Column  Non-Null Count  Dtype  \n",
            "---  ------  --------------  -----  \n",
            " 0   Hours   25 non-null     float64\n",
            " 1   Scores  25 non-null     int64  \n",
            "dtypes: float64(1), int64(1)\n",
            "memory usage: 528.0 bytes\n"
          ]
        }
      ],
      "source": [
        "# Check the info of data\n",
        "data.info()"
      ]
    },
    {
      "cell_type": "code",
      "execution_count": null,
      "metadata": {
        "id": "ZyonwWoKnf3J",
        "outputId": "f4b21489-b550-44e5-c79c-00ebbb486660",
        "colab": {
          "base_uri": "https://localhost:8080/",
          "height": 300
        }
      },
      "outputs": [
        {
          "output_type": "execute_result",
          "data": {
            "text/plain": [
              "           Hours     Scores\n",
              "count  25.000000  25.000000\n",
              "mean    5.012000  51.480000\n",
              "std     2.525094  25.286887\n",
              "min     1.100000  17.000000\n",
              "25%     2.700000  30.000000\n",
              "50%     4.800000  47.000000\n",
              "75%     7.400000  75.000000\n",
              "max     9.200000  95.000000"
            ],
            "text/html": [
              "\n",
              "  <div id=\"df-e2032c0a-6eca-44dc-8d08-c89e190c2dbb\">\n",
              "    <div class=\"colab-df-container\">\n",
              "      <div>\n",
              "<style scoped>\n",
              "    .dataframe tbody tr th:only-of-type {\n",
              "        vertical-align: middle;\n",
              "    }\n",
              "\n",
              "    .dataframe tbody tr th {\n",
              "        vertical-align: top;\n",
              "    }\n",
              "\n",
              "    .dataframe thead th {\n",
              "        text-align: right;\n",
              "    }\n",
              "</style>\n",
              "<table border=\"1\" class=\"dataframe\">\n",
              "  <thead>\n",
              "    <tr style=\"text-align: right;\">\n",
              "      <th></th>\n",
              "      <th>Hours</th>\n",
              "      <th>Scores</th>\n",
              "    </tr>\n",
              "  </thead>\n",
              "  <tbody>\n",
              "    <tr>\n",
              "      <th>count</th>\n",
              "      <td>25.000000</td>\n",
              "      <td>25.000000</td>\n",
              "    </tr>\n",
              "    <tr>\n",
              "      <th>mean</th>\n",
              "      <td>5.012000</td>\n",
              "      <td>51.480000</td>\n",
              "    </tr>\n",
              "    <tr>\n",
              "      <th>std</th>\n",
              "      <td>2.525094</td>\n",
              "      <td>25.286887</td>\n",
              "    </tr>\n",
              "    <tr>\n",
              "      <th>min</th>\n",
              "      <td>1.100000</td>\n",
              "      <td>17.000000</td>\n",
              "    </tr>\n",
              "    <tr>\n",
              "      <th>25%</th>\n",
              "      <td>2.700000</td>\n",
              "      <td>30.000000</td>\n",
              "    </tr>\n",
              "    <tr>\n",
              "      <th>50%</th>\n",
              "      <td>4.800000</td>\n",
              "      <td>47.000000</td>\n",
              "    </tr>\n",
              "    <tr>\n",
              "      <th>75%</th>\n",
              "      <td>7.400000</td>\n",
              "      <td>75.000000</td>\n",
              "    </tr>\n",
              "    <tr>\n",
              "      <th>max</th>\n",
              "      <td>9.200000</td>\n",
              "      <td>95.000000</td>\n",
              "    </tr>\n",
              "  </tbody>\n",
              "</table>\n",
              "</div>\n",
              "      <button class=\"colab-df-convert\" onclick=\"convertToInteractive('df-e2032c0a-6eca-44dc-8d08-c89e190c2dbb')\"\n",
              "              title=\"Convert this dataframe to an interactive table.\"\n",
              "              style=\"display:none;\">\n",
              "        \n",
              "  <svg xmlns=\"http://www.w3.org/2000/svg\" height=\"24px\"viewBox=\"0 0 24 24\"\n",
              "       width=\"24px\">\n",
              "    <path d=\"M0 0h24v24H0V0z\" fill=\"none\"/>\n",
              "    <path d=\"M18.56 5.44l.94 2.06.94-2.06 2.06-.94-2.06-.94-.94-2.06-.94 2.06-2.06.94zm-11 1L8.5 8.5l.94-2.06 2.06-.94-2.06-.94L8.5 2.5l-.94 2.06-2.06.94zm10 10l.94 2.06.94-2.06 2.06-.94-2.06-.94-.94-2.06-.94 2.06-2.06.94z\"/><path d=\"M17.41 7.96l-1.37-1.37c-.4-.4-.92-.59-1.43-.59-.52 0-1.04.2-1.43.59L10.3 9.45l-7.72 7.72c-.78.78-.78 2.05 0 2.83L4 21.41c.39.39.9.59 1.41.59.51 0 1.02-.2 1.41-.59l7.78-7.78 2.81-2.81c.8-.78.8-2.07 0-2.86zM5.41 20L4 18.59l7.72-7.72 1.47 1.35L5.41 20z\"/>\n",
              "  </svg>\n",
              "      </button>\n",
              "      \n",
              "  <style>\n",
              "    .colab-df-container {\n",
              "      display:flex;\n",
              "      flex-wrap:wrap;\n",
              "      gap: 12px;\n",
              "    }\n",
              "\n",
              "    .colab-df-convert {\n",
              "      background-color: #E8F0FE;\n",
              "      border: none;\n",
              "      border-radius: 50%;\n",
              "      cursor: pointer;\n",
              "      display: none;\n",
              "      fill: #1967D2;\n",
              "      height: 32px;\n",
              "      padding: 0 0 0 0;\n",
              "      width: 32px;\n",
              "    }\n",
              "\n",
              "    .colab-df-convert:hover {\n",
              "      background-color: #E2EBFA;\n",
              "      box-shadow: 0px 1px 2px rgba(60, 64, 67, 0.3), 0px 1px 3px 1px rgba(60, 64, 67, 0.15);\n",
              "      fill: #174EA6;\n",
              "    }\n",
              "\n",
              "    [theme=dark] .colab-df-convert {\n",
              "      background-color: #3B4455;\n",
              "      fill: #D2E3FC;\n",
              "    }\n",
              "\n",
              "    [theme=dark] .colab-df-convert:hover {\n",
              "      background-color: #434B5C;\n",
              "      box-shadow: 0px 1px 3px 1px rgba(0, 0, 0, 0.15);\n",
              "      filter: drop-shadow(0px 1px 2px rgba(0, 0, 0, 0.3));\n",
              "      fill: #FFFFFF;\n",
              "    }\n",
              "  </style>\n",
              "\n",
              "      <script>\n",
              "        const buttonEl =\n",
              "          document.querySelector('#df-e2032c0a-6eca-44dc-8d08-c89e190c2dbb button.colab-df-convert');\n",
              "        buttonEl.style.display =\n",
              "          google.colab.kernel.accessAllowed ? 'block' : 'none';\n",
              "\n",
              "        async function convertToInteractive(key) {\n",
              "          const element = document.querySelector('#df-e2032c0a-6eca-44dc-8d08-c89e190c2dbb');\n",
              "          const dataTable =\n",
              "            await google.colab.kernel.invokeFunction('convertToInteractive',\n",
              "                                                     [key], {});\n",
              "          if (!dataTable) return;\n",
              "\n",
              "          const docLinkHtml = 'Like what you see? Visit the ' +\n",
              "            '<a target=\"_blank\" href=https://colab.research.google.com/notebooks/data_table.ipynb>data table notebook</a>'\n",
              "            + ' to learn more about interactive tables.';\n",
              "          element.innerHTML = '';\n",
              "          dataTable['output_type'] = 'display_data';\n",
              "          await google.colab.output.renderOutput(dataTable, element);\n",
              "          const docLink = document.createElement('div');\n",
              "          docLink.innerHTML = docLinkHtml;\n",
              "          element.appendChild(docLink);\n",
              "        }\n",
              "      </script>\n",
              "    </div>\n",
              "  </div>\n",
              "  "
            ]
          },
          "metadata": {},
          "execution_count": 31
        }
      ],
      "source": [
        "# Check the description of student_score data\n",
        "data.describe(include=\"all\")"
      ]
    },
    {
      "cell_type": "code",
      "source": [
        "# Check for duplicates\n",
        "dups = data.duplicated()\n",
        "dups.sum()"
      ],
      "metadata": {
        "colab": {
          "base_uri": "https://localhost:8080/"
        },
        "id": "X20a6LPhsXix",
        "outputId": "b9c12e43-edb9-49a2-c049-6210a1f5adac"
      },
      "execution_count": null,
      "outputs": [
        {
          "output_type": "execute_result",
          "data": {
            "text/plain": [
              "0"
            ]
          },
          "metadata": {},
          "execution_count": 32
        }
      ]
    },
    {
      "cell_type": "code",
      "source": [
        "# Check for null values\n",
        "data.isnull().sum()"
      ],
      "metadata": {
        "colab": {
          "base_uri": "https://localhost:8080/"
        },
        "id": "37bkoCgCskEG",
        "outputId": "fc4eb449-927a-414e-b494-4b8350fcff4b"
      },
      "execution_count": null,
      "outputs": [
        {
          "output_type": "execute_result",
          "data": {
            "text/plain": [
              "Hours     0\n",
              "Scores    0\n",
              "dtype: int64"
            ]
          },
          "metadata": {},
          "execution_count": 33
        }
      ]
    },
    {
      "cell_type": "markdown",
      "source": [
        "Observation: There is no null and and duplicate values."
      ],
      "metadata": {
        "id": "ciKgsw26617E"
      }
    },
    {
      "cell_type": "markdown",
      "metadata": {
        "id": "rYg-rYyhnf3L"
      },
      "source": [
        "## Data Visualization"
      ]
    },
    {
      "cell_type": "code",
      "execution_count": null,
      "metadata": {
        "id": "S5Pe_lREnf3M",
        "outputId": "81e4a3b2-e28d-4b6f-ad85-09d41100ce69",
        "colab": {
          "base_uri": "https://localhost:8080/",
          "height": 295
        }
      },
      "outputs": [
        {
          "output_type": "display_data",
          "data": {
            "text/plain": [
              "<Figure size 432x288 with 1 Axes>"
            ],
            "image/png": "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\n"
          },
          "metadata": {
            "needs_background": "light"
          }
        }
      ],
      "source": [
        "# Plotting the distribution of scores\n",
        "data.plot(x=\"Hours\", y=\"Scores\", style=\"o\", color=\"red\")  \n",
        "plt.title('Hours vs Percentage')  \n",
        "plt.xlabel('Hours Studied')  \n",
        "plt.ylabel('Percentage Score')  \n",
        "plt.show()"
      ]
    },
    {
      "cell_type": "markdown",
      "metadata": {
        "id": "eKxhS788nf3O"
      },
      "source": [
        "***Observation***:  The correlation between the amount of hours studied and the percentage of score is definitely positive and linear."
      ]
    },
    {
      "cell_type": "markdown",
      "metadata": {
        "id": "lJNgTO_Unf3P"
      },
      "source": [
        "## Linear Regression Model"
      ]
    },
    {
      "cell_type": "code",
      "source": [
        "# Split the data into inputs(attributes) and outputs(labels)\n",
        "X = data.drop([\"Scores\"] , axis = 1)\n",
        "y = data[\"Scores\"]"
      ],
      "metadata": {
        "id": "30Wp9fT3xTTO"
      },
      "execution_count": null,
      "outputs": []
    },
    {
      "cell_type": "code",
      "source": [
        "X.head()"
      ],
      "metadata": {
        "colab": {
          "base_uri": "https://localhost:8080/",
          "height": 206
        },
        "id": "TZaVBpF2xdQ_",
        "outputId": "7730b877-d151-4753-8565-554a78e80f1b"
      },
      "execution_count": null,
      "outputs": [
        {
          "output_type": "execute_result",
          "data": {
            "text/plain": [
              "   Hours\n",
              "0    2.5\n",
              "1    5.1\n",
              "2    3.2\n",
              "3    8.5\n",
              "4    3.5"
            ],
            "text/html": [
              "\n",
              "  <div id=\"df-e22112c6-ffeb-4d68-9add-1c19e2f7cb57\">\n",
              "    <div class=\"colab-df-container\">\n",
              "      <div>\n",
              "<style scoped>\n",
              "    .dataframe tbody tr th:only-of-type {\n",
              "        vertical-align: middle;\n",
              "    }\n",
              "\n",
              "    .dataframe tbody tr th {\n",
              "        vertical-align: top;\n",
              "    }\n",
              "\n",
              "    .dataframe thead th {\n",
              "        text-align: right;\n",
              "    }\n",
              "</style>\n",
              "<table border=\"1\" class=\"dataframe\">\n",
              "  <thead>\n",
              "    <tr style=\"text-align: right;\">\n",
              "      <th></th>\n",
              "      <th>Hours</th>\n",
              "    </tr>\n",
              "  </thead>\n",
              "  <tbody>\n",
              "    <tr>\n",
              "      <th>0</th>\n",
              "      <td>2.5</td>\n",
              "    </tr>\n",
              "    <tr>\n",
              "      <th>1</th>\n",
              "      <td>5.1</td>\n",
              "    </tr>\n",
              "    <tr>\n",
              "      <th>2</th>\n",
              "      <td>3.2</td>\n",
              "    </tr>\n",
              "    <tr>\n",
              "      <th>3</th>\n",
              "      <td>8.5</td>\n",
              "    </tr>\n",
              "    <tr>\n",
              "      <th>4</th>\n",
              "      <td>3.5</td>\n",
              "    </tr>\n",
              "  </tbody>\n",
              "</table>\n",
              "</div>\n",
              "      <button class=\"colab-df-convert\" onclick=\"convertToInteractive('df-e22112c6-ffeb-4d68-9add-1c19e2f7cb57')\"\n",
              "              title=\"Convert this dataframe to an interactive table.\"\n",
              "              style=\"display:none;\">\n",
              "        \n",
              "  <svg xmlns=\"http://www.w3.org/2000/svg\" height=\"24px\"viewBox=\"0 0 24 24\"\n",
              "       width=\"24px\">\n",
              "    <path d=\"M0 0h24v24H0V0z\" fill=\"none\"/>\n",
              "    <path d=\"M18.56 5.44l.94 2.06.94-2.06 2.06-.94-2.06-.94-.94-2.06-.94 2.06-2.06.94zm-11 1L8.5 8.5l.94-2.06 2.06-.94-2.06-.94L8.5 2.5l-.94 2.06-2.06.94zm10 10l.94 2.06.94-2.06 2.06-.94-2.06-.94-.94-2.06-.94 2.06-2.06.94z\"/><path d=\"M17.41 7.96l-1.37-1.37c-.4-.4-.92-.59-1.43-.59-.52 0-1.04.2-1.43.59L10.3 9.45l-7.72 7.72c-.78.78-.78 2.05 0 2.83L4 21.41c.39.39.9.59 1.41.59.51 0 1.02-.2 1.41-.59l7.78-7.78 2.81-2.81c.8-.78.8-2.07 0-2.86zM5.41 20L4 18.59l7.72-7.72 1.47 1.35L5.41 20z\"/>\n",
              "  </svg>\n",
              "      </button>\n",
              "      \n",
              "  <style>\n",
              "    .colab-df-container {\n",
              "      display:flex;\n",
              "      flex-wrap:wrap;\n",
              "      gap: 12px;\n",
              "    }\n",
              "\n",
              "    .colab-df-convert {\n",
              "      background-color: #E8F0FE;\n",
              "      border: none;\n",
              "      border-radius: 50%;\n",
              "      cursor: pointer;\n",
              "      display: none;\n",
              "      fill: #1967D2;\n",
              "      height: 32px;\n",
              "      padding: 0 0 0 0;\n",
              "      width: 32px;\n",
              "    }\n",
              "\n",
              "    .colab-df-convert:hover {\n",
              "      background-color: #E2EBFA;\n",
              "      box-shadow: 0px 1px 2px rgba(60, 64, 67, 0.3), 0px 1px 3px 1px rgba(60, 64, 67, 0.15);\n",
              "      fill: #174EA6;\n",
              "    }\n",
              "\n",
              "    [theme=dark] .colab-df-convert {\n",
              "      background-color: #3B4455;\n",
              "      fill: #D2E3FC;\n",
              "    }\n",
              "\n",
              "    [theme=dark] .colab-df-convert:hover {\n",
              "      background-color: #434B5C;\n",
              "      box-shadow: 0px 1px 3px 1px rgba(0, 0, 0, 0.15);\n",
              "      filter: drop-shadow(0px 1px 2px rgba(0, 0, 0, 0.3));\n",
              "      fill: #FFFFFF;\n",
              "    }\n",
              "  </style>\n",
              "\n",
              "      <script>\n",
              "        const buttonEl =\n",
              "          document.querySelector('#df-e22112c6-ffeb-4d68-9add-1c19e2f7cb57 button.colab-df-convert');\n",
              "        buttonEl.style.display =\n",
              "          google.colab.kernel.accessAllowed ? 'block' : 'none';\n",
              "\n",
              "        async function convertToInteractive(key) {\n",
              "          const element = document.querySelector('#df-e22112c6-ffeb-4d68-9add-1c19e2f7cb57');\n",
              "          const dataTable =\n",
              "            await google.colab.kernel.invokeFunction('convertToInteractive',\n",
              "                                                     [key], {});\n",
              "          if (!dataTable) return;\n",
              "\n",
              "          const docLinkHtml = 'Like what you see? Visit the ' +\n",
              "            '<a target=\"_blank\" href=https://colab.research.google.com/notebooks/data_table.ipynb>data table notebook</a>'\n",
              "            + ' to learn more about interactive tables.';\n",
              "          element.innerHTML = '';\n",
              "          dataTable['output_type'] = 'display_data';\n",
              "          await google.colab.output.renderOutput(dataTable, element);\n",
              "          const docLink = document.createElement('div');\n",
              "          docLink.innerHTML = docLinkHtml;\n",
              "          element.appendChild(docLink);\n",
              "        }\n",
              "      </script>\n",
              "    </div>\n",
              "  </div>\n",
              "  "
            ]
          },
          "metadata": {},
          "execution_count": 36
        }
      ]
    },
    {
      "cell_type": "code",
      "source": [
        "y.head()"
      ],
      "metadata": {
        "colab": {
          "base_uri": "https://localhost:8080/"
        },
        "id": "mlETxIQrxgHs",
        "outputId": "62865f50-03e8-424a-e02b-ade6e104a745"
      },
      "execution_count": null,
      "outputs": [
        {
          "output_type": "execute_result",
          "data": {
            "text/plain": [
              "0    21\n",
              "1    47\n",
              "2    27\n",
              "3    75\n",
              "4    30\n",
              "Name: Scores, dtype: int64"
            ]
          },
          "metadata": {},
          "execution_count": 37
        }
      ]
    },
    {
      "cell_type": "code",
      "execution_count": null,
      "metadata": {
        "id": "yA1PbnLunf3Q"
      },
      "outputs": [],
      "source": [
        "# Splitting the data into train and test sets\n",
        "X_train, X_test, y_train, y_test = train_test_split(X, y,train_size=0.80,test_size=0.20,random_state=0)"
      ]
    },
    {
      "cell_type": "markdown",
      "metadata": {
        "id": "x2bERDLVnf3R"
      },
      "source": [
        "## Data Modelling"
      ]
    },
    {
      "cell_type": "code",
      "execution_count": null,
      "metadata": {
        "id": "GoQrO2Htnf3T",
        "outputId": "2fd011da-b571-47c1-ed7e-0ccaa8c4f0c7",
        "colab": {
          "base_uri": "https://localhost:8080/"
        }
      },
      "outputs": [
        {
          "output_type": "stream",
          "name": "stdout",
          "text": [
            "Training complete.\n"
          ]
        }
      ],
      "source": [
        "regressor = LinearRegression()  \n",
        "regressor.fit(X_train, y_train) \n",
        "print(\"Training complete.\")"
      ]
    },
    {
      "cell_type": "code",
      "source": [
        "print(regressor.coef_,regressor.intercept_)"
      ],
      "metadata": {
        "colab": {
          "base_uri": "https://localhost:8080/"
        },
        "id": "tx_Ys7lMyF7F",
        "outputId": "c5946c30-4914-47d5-f9b9-90192f8f8ff0"
      },
      "execution_count": null,
      "outputs": [
        {
          "output_type": "stream",
          "name": "stdout",
          "text": [
            "[9.91065648] 2.018160041434662\n"
          ]
        }
      ]
    },
    {
      "cell_type": "code",
      "execution_count": null,
      "metadata": {
        "id": "vlyhGS0_nf3U",
        "outputId": "ac3462c5-6601-4fc0-800b-9048ace00d42",
        "colab": {
          "base_uri": "https://localhost:8080/",
          "height": 295
        }
      },
      "outputs": [
        {
          "output_type": "display_data",
          "data": {
            "text/plain": [
              "<Figure size 432x288 with 1 Axes>"
            ],
            "image/png": "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\n"
          },
          "metadata": {
            "needs_background": "light"
          }
        }
      ],
      "source": [
        "# Plotting the regression line\n",
        "line = regressor.coef_*X+regressor.intercept_\n",
        "# Plotting for the test data\n",
        "plt.scatter(X, y, color=\"red\")\n",
        "plt.plot(X, line);\n",
        "plt.title('Linear regression vs trained model')  \n",
        "plt.xlabel('Hours Studied')  \n",
        "plt.ylabel('Percentage Score')\n",
        "plt.show()"
      ]
    },
    {
      "cell_type": "code",
      "execution_count": null,
      "metadata": {
        "id": "FvJjAvr7nf3X",
        "outputId": "b7f76520-7f35-4eb7-9d99-c8f95d7f6bdd",
        "colab": {
          "base_uri": "https://localhost:8080/"
        }
      },
      "outputs": [
        {
          "output_type": "stream",
          "name": "stdout",
          "text": [
            "Test Score\n",
            "0.9454906892105354\n",
            "Training Score\n",
            "0.9515510725211552\n"
          ]
        }
      ],
      "source": [
        "#checking accuracy scores for training and test set\n",
        "print('Test Score')\n",
        "print(regressor.score(X_test, y_test))\n",
        "print('Training Score')\n",
        "print(regressor.score(X_train, y_train))"
      ]
    },
    {
      "cell_type": "markdown",
      "source": [
        "# Prediction"
      ],
      "metadata": {
        "id": "NchwbWKP5jsl"
      }
    },
    {
      "cell_type": "code",
      "source": [
        "print(X_test)\n",
        "y_pred = regressor.predict(X_test)"
      ],
      "metadata": {
        "colab": {
          "base_uri": "https://localhost:8080/"
        },
        "id": "YnVH7PuB5h0s",
        "outputId": "ef81c4d2-fe9f-4404-9a30-485fea73974a"
      },
      "execution_count": null,
      "outputs": [
        {
          "output_type": "stream",
          "name": "stdout",
          "text": [
            "    Hours\n",
            "5     1.5\n",
            "2     3.2\n",
            "19    7.4\n",
            "16    2.5\n",
            "11    5.9\n"
          ]
        }
      ]
    },
    {
      "cell_type": "code",
      "execution_count": null,
      "metadata": {
        "id": "0EUWTn9Anf3Z",
        "outputId": "93f172e5-54af-470d-efee-fc02a7b0957b",
        "colab": {
          "base_uri": "https://localhost:8080/"
        }
      },
      "outputs": [
        {
          "output_type": "stream",
          "name": "stdout",
          "text": [
            "5     20\n",
            "2     27\n",
            "19    69\n",
            "16    30\n",
            "11    62\n",
            "Name: Scores, dtype: int64\n"
          ]
        }
      ],
      "source": [
        "print(y_test)"
      ]
    },
    {
      "cell_type": "code",
      "source": [
        "print(y_pred)"
      ],
      "metadata": {
        "colab": {
          "base_uri": "https://localhost:8080/"
        },
        "id": "NJOeWwxN-2Kb",
        "outputId": "e73c82ed-6d1a-4397-8b65-e9855549db65"
      },
      "execution_count": null,
      "outputs": [
        {
          "output_type": "stream",
          "name": "stdout",
          "text": [
            "[16.88414476 33.73226078 75.357018   26.79480124 60.49103328]\n"
          ]
        }
      ]
    },
    {
      "cell_type": "code",
      "execution_count": null,
      "metadata": {
        "id": "LfD6j1Qlnf3d",
        "outputId": "c938f25a-4be6-4074-c156-15f9d44f827e",
        "colab": {
          "base_uri": "https://localhost:8080/",
          "height": 206
        }
      },
      "outputs": [
        {
          "output_type": "execute_result",
          "data": {
            "text/plain": [
              "    Actual value  Predicted value\n",
              "5             20        16.884145\n",
              "2             27        33.732261\n",
              "19            69        75.357018\n",
              "16            30        26.794801\n",
              "11            62        60.491033"
            ],
            "text/html": [
              "\n",
              "  <div id=\"df-6fc521dd-a17f-4356-bf38-ac720858e640\">\n",
              "    <div class=\"colab-df-container\">\n",
              "      <div>\n",
              "<style scoped>\n",
              "    .dataframe tbody tr th:only-of-type {\n",
              "        vertical-align: middle;\n",
              "    }\n",
              "\n",
              "    .dataframe tbody tr th {\n",
              "        vertical-align: top;\n",
              "    }\n",
              "\n",
              "    .dataframe thead th {\n",
              "        text-align: right;\n",
              "    }\n",
              "</style>\n",
              "<table border=\"1\" class=\"dataframe\">\n",
              "  <thead>\n",
              "    <tr style=\"text-align: right;\">\n",
              "      <th></th>\n",
              "      <th>Actual value</th>\n",
              "      <th>Predicted value</th>\n",
              "    </tr>\n",
              "  </thead>\n",
              "  <tbody>\n",
              "    <tr>\n",
              "      <th>5</th>\n",
              "      <td>20</td>\n",
              "      <td>16.884145</td>\n",
              "    </tr>\n",
              "    <tr>\n",
              "      <th>2</th>\n",
              "      <td>27</td>\n",
              "      <td>33.732261</td>\n",
              "    </tr>\n",
              "    <tr>\n",
              "      <th>19</th>\n",
              "      <td>69</td>\n",
              "      <td>75.357018</td>\n",
              "    </tr>\n",
              "    <tr>\n",
              "      <th>16</th>\n",
              "      <td>30</td>\n",
              "      <td>26.794801</td>\n",
              "    </tr>\n",
              "    <tr>\n",
              "      <th>11</th>\n",
              "      <td>62</td>\n",
              "      <td>60.491033</td>\n",
              "    </tr>\n",
              "  </tbody>\n",
              "</table>\n",
              "</div>\n",
              "      <button class=\"colab-df-convert\" onclick=\"convertToInteractive('df-6fc521dd-a17f-4356-bf38-ac720858e640')\"\n",
              "              title=\"Convert this dataframe to an interactive table.\"\n",
              "              style=\"display:none;\">\n",
              "        \n",
              "  <svg xmlns=\"http://www.w3.org/2000/svg\" height=\"24px\"viewBox=\"0 0 24 24\"\n",
              "       width=\"24px\">\n",
              "    <path d=\"M0 0h24v24H0V0z\" fill=\"none\"/>\n",
              "    <path d=\"M18.56 5.44l.94 2.06.94-2.06 2.06-.94-2.06-.94-.94-2.06-.94 2.06-2.06.94zm-11 1L8.5 8.5l.94-2.06 2.06-.94-2.06-.94L8.5 2.5l-.94 2.06-2.06.94zm10 10l.94 2.06.94-2.06 2.06-.94-2.06-.94-.94-2.06-.94 2.06-2.06.94z\"/><path d=\"M17.41 7.96l-1.37-1.37c-.4-.4-.92-.59-1.43-.59-.52 0-1.04.2-1.43.59L10.3 9.45l-7.72 7.72c-.78.78-.78 2.05 0 2.83L4 21.41c.39.39.9.59 1.41.59.51 0 1.02-.2 1.41-.59l7.78-7.78 2.81-2.81c.8-.78.8-2.07 0-2.86zM5.41 20L4 18.59l7.72-7.72 1.47 1.35L5.41 20z\"/>\n",
              "  </svg>\n",
              "      </button>\n",
              "      \n",
              "  <style>\n",
              "    .colab-df-container {\n",
              "      display:flex;\n",
              "      flex-wrap:wrap;\n",
              "      gap: 12px;\n",
              "    }\n",
              "\n",
              "    .colab-df-convert {\n",
              "      background-color: #E8F0FE;\n",
              "      border: none;\n",
              "      border-radius: 50%;\n",
              "      cursor: pointer;\n",
              "      display: none;\n",
              "      fill: #1967D2;\n",
              "      height: 32px;\n",
              "      padding: 0 0 0 0;\n",
              "      width: 32px;\n",
              "    }\n",
              "\n",
              "    .colab-df-convert:hover {\n",
              "      background-color: #E2EBFA;\n",
              "      box-shadow: 0px 1px 2px rgba(60, 64, 67, 0.3), 0px 1px 3px 1px rgba(60, 64, 67, 0.15);\n",
              "      fill: #174EA6;\n",
              "    }\n",
              "\n",
              "    [theme=dark] .colab-df-convert {\n",
              "      background-color: #3B4455;\n",
              "      fill: #D2E3FC;\n",
              "    }\n",
              "\n",
              "    [theme=dark] .colab-df-convert:hover {\n",
              "      background-color: #434B5C;\n",
              "      box-shadow: 0px 1px 3px 1px rgba(0, 0, 0, 0.15);\n",
              "      filter: drop-shadow(0px 1px 2px rgba(0, 0, 0, 0.3));\n",
              "      fill: #FFFFFF;\n",
              "    }\n",
              "  </style>\n",
              "\n",
              "      <script>\n",
              "        const buttonEl =\n",
              "          document.querySelector('#df-6fc521dd-a17f-4356-bf38-ac720858e640 button.colab-df-convert');\n",
              "        buttonEl.style.display =\n",
              "          google.colab.kernel.accessAllowed ? 'block' : 'none';\n",
              "\n",
              "        async function convertToInteractive(key) {\n",
              "          const element = document.querySelector('#df-6fc521dd-a17f-4356-bf38-ac720858e640');\n",
              "          const dataTable =\n",
              "            await google.colab.kernel.invokeFunction('convertToInteractive',\n",
              "                                                     [key], {});\n",
              "          if (!dataTable) return;\n",
              "\n",
              "          const docLinkHtml = 'Like what you see? Visit the ' +\n",
              "            '<a target=\"_blank\" href=https://colab.research.google.com/notebooks/data_table.ipynb>data table notebook</a>'\n",
              "            + ' to learn more about interactive tables.';\n",
              "          element.innerHTML = '';\n",
              "          dataTable['output_type'] = 'display_data';\n",
              "          await google.colab.output.renderOutput(dataTable, element);\n",
              "          const docLink = document.createElement('div');\n",
              "          docLink.innerHTML = docLinkHtml;\n",
              "          element.appendChild(docLink);\n",
              "        }\n",
              "      </script>\n",
              "    </div>\n",
              "  </div>\n",
              "  "
            ]
          },
          "metadata": {},
          "execution_count": 46
        }
      ],
      "source": [
        "# Comparing the actual value to the predicted value\n",
        "data= pd.DataFrame({'Actual value': y_test,'Predicted value': y_pred})\n",
        "data"
      ]
    },
    {
      "cell_type": "code",
      "source": [
        "data.plot(kind='bar',figsize=(7,7),color=('purple','orange'))\n",
        "plt.show()"
      ],
      "metadata": {
        "colab": {
          "base_uri": "https://localhost:8080/",
          "height": 431
        },
        "id": "_SQENFgK9H99",
        "outputId": "1fdcb037-6714-41bd-8ea4-3425e115bf75"
      },
      "execution_count": null,
      "outputs": [
        {
          "output_type": "display_data",
          "data": {
            "text/plain": [
              "<Figure size 504x504 with 1 Axes>"
            ],
            "image/png": "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\n"
          },
          "metadata": {
            "needs_background": "light"
          }
        }
      ]
    },
    {
      "cell_type": "code",
      "source": [
        "# Predicting Scores for 9.25 hours of study\n",
        "hours = 9.25\n",
        "data = {'Hours': [hours]}\n",
        "df = pd.DataFrame(data)\n",
        "pred = regressor.predict(df)\n",
        "print(\"NO. of hours = {}\".format(hours))\n",
        "print(\"Predicted Score = {}\".format(pred[0]))\n"
      ],
      "metadata": {
        "colab": {
          "base_uri": "https://localhost:8080/"
        },
        "id": "3O5E_8_D9UgR",
        "outputId": "71317dec-1703-4b13-c1bf-4f58d7a2456c"
      },
      "execution_count": 62,
      "outputs": [
        {
          "output_type": "stream",
          "name": "stdout",
          "text": [
            "NO. of hours = 9.25\n",
            "Predicted Score = 93.69173248737539\n"
          ]
        }
      ]
    },
    {
      "cell_type": "markdown",
      "metadata": {
        "id": "SL8Kqnmknf3f"
      },
      "source": [
        "### Model Evaluation Metrics"
      ]
    },
    {
      "cell_type": "code",
      "execution_count": null,
      "metadata": {
        "id": "rgYVQDlOnf3f",
        "outputId": "c2e393f2-30eb-4df3-944b-e8dc22fafe61",
        "colab": {
          "base_uri": "https://localhost:8080/"
        }
      },
      "outputs": [
        {
          "output_type": "stream",
          "name": "stdout",
          "text": [
            "Mean Squred Error: 21.598769307217456\n",
            "Mean absolute Error: 4.183859899002982\n"
          ]
        }
      ],
      "source": [
        "#Checking the efficiency of model\n",
        "mean_squ_error = mean_squared_error(y_test, y_pred[:5])\n",
        "mean_abs_error = mean_absolute_error(y_test, y_pred[:5])\n",
        "print(\"Mean Squred Error:\",mean_squ_error)\n",
        "print(\"Mean absolute Error:\",mean_abs_error)"
      ]
    }
  ],
  "metadata": {
    "kernelspec": {
      "display_name": "Python 3",
      "language": "python",
      "name": "python3"
    },
    "language_info": {
      "codemirror_mode": {
        "name": "ipython",
        "version": 3
      },
      "file_extension": ".py",
      "mimetype": "text/x-python",
      "name": "python",
      "nbconvert_exporter": "python",
      "pygments_lexer": "ipython3",
      "version": "3.7.3"
    },
    "colab": {
      "provenance": []
    }
  },
  "nbformat": 4,
  "nbformat_minor": 0
}
